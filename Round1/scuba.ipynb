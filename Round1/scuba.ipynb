{
 "cells": [
  {
   "cell_type": "code",
   "execution_count": 5,
   "metadata": {},
   "outputs": [],
   "source": [
    "import numpy as np\n",
    "\n",
    "sims = 1000\n",
    "\n",
    "reserve = np.random.uniform(900,1000,sims)\n"
   ]
  },
  {
   "cell_type": "code",
   "execution_count": 7,
   "metadata": {},
   "outputs": [
    {
     "name": "stdout",
     "output_type": "stream",
     "text": [
      "50.0\n"
     ]
    }
   ],
   "source": [
    "def x(a):\n",
    "    return 0.005*a*a - 9*a + 4050\n"
   ]
  },
  {
   "cell_type": "code",
   "execution_count": null,
   "metadata": {},
   "outputs": [],
   "source": [
    "import numpy as np\n",
    "\n",
    "#funtion\n",
    "def random_custDist(x0,x1,custDist,size=None, nControl=10**6):\n",
    "    #genearte a list of size random samples, obeying the distribution custDist\n",
    "    #suggests random samples between x0 and x1 and accepts the suggestion with probability custDist(x)\n",
    "    #custDist noes not need to be normalized. Add this condition to increase performance. \n",
    "    #Best performance for max_{x in [x0,x1]} custDist(x) = 1\n",
    "    samples=[]\n",
    "    nLoop=0\n",
    "    while len(samples)<size and nLoop<nControl:\n",
    "        x=np.random.uniform(low=x0,high=x1)\n",
    "        prop=custDist(x)\n",
    "        assert prop>=0 and prop<=1\n",
    "        if np.random.uniform(low=0,high=1) <=prop:\n",
    "            samples += [x]\n",
    "        nLoop+=1\n",
    "    return samples\n",
    "\n",
    "#call\n",
    "x0=2007\n",
    "x1=2019\n",
    "def custDist(x):\n",
    "    if x<900:\n",
    "        return 0\n",
    "    elif x>=900 and x<=1000:\n",
    "        return 0.01*x - 9\n",
    "    else:\n",
    "        return 0\n",
    "samples=random_custDist(x0,x1,custDist=custDist,size=1000)\n",
    "print(samples)\n",
    "\n",
    "#plot\n",
    "import matplotlib.pyplot as plt\n",
    "#hist\n",
    "bins=np.linspace(x0,x1,int(x1-x0+1))\n",
    "hist=np.histogram(samples, bins )[0]\n",
    "hist=hist/np.sum(hist)\n",
    "plt.bar( (bins[:-1]+bins[1:])/2, hist, width=.96, label='sample distribution')\n",
    "#dist\n",
    "grid=np.linspace(x0,x1,100)\n",
    "discCustDist=np.array([custDist(x) for x in grid]) #distrete version\n",
    "discCustDist*=1/(grid[1]-grid[0])/np.sum(discCustDist)\n",
    "plt.plot(grid,discCustDist,label='custom distribustion (custDist)', color='C1', linewidth=4)\n",
    "#decoration\n",
    "plt.legend(loc=3,bbox_to_anchor=(1,0))\n",
    "plt.show()"
   ]
  }
 ],
 "metadata": {
  "kernelspec": {
   "display_name": "Python 3",
   "language": "python",
   "name": "python3"
  },
  "language_info": {
   "codemirror_mode": {
    "name": "ipython",
    "version": 3
   },
   "file_extension": ".py",
   "mimetype": "text/x-python",
   "name": "python",
   "nbconvert_exporter": "python",
   "pygments_lexer": "ipython3",
   "version": "3.10.12"
  }
 },
 "nbformat": 4,
 "nbformat_minor": 2
}

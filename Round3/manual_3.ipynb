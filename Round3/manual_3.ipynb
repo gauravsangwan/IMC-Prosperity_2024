{
 "cells": [
  {
   "cell_type": "markdown",
   "metadata": {},
   "source": [
    "el farol bar problem"
   ]
  },
  {
   "cell_type": "code",
   "execution_count": 26,
   "metadata": {},
   "outputs": [],
   "source": [
    "import numpy as np\n",
    "np.set_printoptions(precision=2)"
   ]
  },
  {
   "cell_type": "markdown",
   "metadata": {},
   "source": [
    "Building treasure map data structure"
   ]
  },
  {
   "cell_type": "code",
   "execution_count": 27,
   "metadata": {},
   "outputs": [],
   "source": [
    "# build the treasure matrix, the first element is the multiplier, the second is the amount of hunters\n",
    "\n",
    "row0 = [\n",
    "    [24, 2],\n",
    "    [70, 4],\n",
    "    [41, 3],\n",
    "    [21, 2],\n",
    "    [60, 4]\n",
    "]\n",
    "\n",
    "row1 = [\n",
    "    [47, 3],\n",
    "    [82, 5],\n",
    "    [87, 5],\n",
    "    [80, 5],\n",
    "    [35, 4]\n",
    "]\n",
    "\n",
    "row2 = [\n",
    "    [73, 4],\n",
    "    [89, 5],\n",
    "    [100, 8],\n",
    "    [90, 7],\n",
    "    [17, 2]\n",
    "]\n",
    "\n",
    "row3 = [\n",
    "    [77, 5],\n",
    "    [83, 5],\n",
    "    [85, 5],\n",
    "    [79, 5],\n",
    "    [55, 4]\n",
    "]\n",
    "\n",
    "row4 = [\n",
    "    [12, 2],\n",
    "    [27, 3],\n",
    "    [52, 4],\n",
    "    [15, 2],\n",
    "    [30, 3]\n",
    "]\n",
    "\n",
    "treasures = np.array([row0, row1, row2, row3, row4])"
   ]
  },
  {
   "cell_type": "code",
   "execution_count": 28,
   "metadata": {},
   "outputs": [
    {
     "data": {
      "text/plain": [
       "array([[[ 24,   2],\n",
       "        [ 70,   4],\n",
       "        [ 41,   3],\n",
       "        [ 21,   2],\n",
       "        [ 60,   4]],\n",
       "\n",
       "       [[ 47,   3],\n",
       "        [ 82,   5],\n",
       "        [ 87,   5],\n",
       "        [ 80,   5],\n",
       "        [ 35,   4]],\n",
       "\n",
       "       [[ 73,   4],\n",
       "        [ 89,   5],\n",
       "        [100,   8],\n",
       "        [ 90,   7],\n",
       "        [ 17,   2]],\n",
       "\n",
       "       [[ 77,   5],\n",
       "        [ 83,   5],\n",
       "        [ 85,   5],\n",
       "        [ 79,   5],\n",
       "        [ 55,   4]],\n",
       "\n",
       "       [[ 12,   2],\n",
       "        [ 27,   3],\n",
       "        [ 52,   4],\n",
       "        [ 15,   2],\n",
       "        [ 30,   3]]])"
      ]
     },
     "execution_count": 28,
     "metadata": {},
     "output_type": "execute_result"
    }
   ],
   "source": [
    "treasures"
   ]
  },
  {
   "cell_type": "code",
   "execution_count": 29,
   "metadata": {},
   "outputs": [
    {
     "data": {
      "text/plain": [
       "(5, 5, 2)"
      ]
     },
     "execution_count": 29,
     "metadata": {},
     "output_type": "execute_result"
    }
   ],
   "source": [
    "treasures.shape"
   ]
  },
  {
   "cell_type": "code",
   "execution_count": 30,
   "metadata": {},
   "outputs": [],
   "source": [
    "# the value of one treasure is 7500\n",
    "multiplier_value = 7500\n",
    "\n",
    "# cost of choosing to get the jth treasure, with a max of 3 treasures per player\n",
    "costs = np.array([0, 25_000, 75_000])"
   ]
  },
  {
   "cell_type": "code",
   "execution_count": 31,
   "metadata": {},
   "outputs": [],
   "source": [
    "# get the expected value of all the treasures in the map given the player's assumption of everyone's choices\n",
    "def get_evs(treasures, assumed_choices):\n",
    "    # treasures and choices are 5x5 matrices\n",
    "    island_values =  treasures[:,:,0] * multiplier_value\n",
    "    number_of_hunters = treasures[:,:,1] + assumed_choices\n",
    "    evs = island_values / number_of_hunters\n",
    "    return evs"
   ]
  },
  {
   "cell_type": "code",
   "execution_count": 32,
   "metadata": {},
   "outputs": [
    {
     "name": "stdout",
     "output_type": "stream",
     "text": [
      "[4, 3]\n",
      "[5, 4]\n",
      "[6, 1]\n",
      "[6, 8, 1]\n"
     ]
    }
   ],
   "source": [
    "def choose_treasure(expected_values):\n",
    "    # find the best 3 treasures to choose\n",
    "    evs = expected_values.reshape(-1)\n",
    "    top3 = np.argsort(evs)[-3:][::-1] # reverse order of the top 3 values\n",
    "    top3_values = evs[top3]\n",
    "    choices = []\n",
    "    for i in range(3):\n",
    "        if top3_values[i] - costs[i] > 0:\n",
    "            choices.append(top3[i])\n",
    "    return choices\n",
    "\n",
    "evs = np.array([1,2,20_000, 50_000, 100_000])\n",
    "print(choose_treasure(evs))\n",
    "\n",
    "evs = evs = np.array([1,50_000, 2,20_000, 50_000, 100_000])\n",
    "print(choose_treasure(evs))\n",
    "\n",
    "evs = np.array([1, 75_001, 50_000, 2,20_000, 50_000, 100_000, 20_000])\n",
    "print(choose_treasure(evs))\n",
    "\n",
    "evs = np.array([1, 75_001, 50_000, 2, 20_000, 50_000, 100_000, 20_000, 75_001])\n",
    "print(choose_treasure(evs))"
   ]
  },
  {
   "cell_type": "code",
   "execution_count": 33,
   "metadata": {},
   "outputs": [
    {
     "name": "stdout",
     "output_type": "stream",
     "text": [
      "[ 90000.   131250.   102500.    78750.   112500.   117500.   123000.\n",
      " 130500.   120000.    65625.   136875.   133500.    93750.    96428.57\n",
      "  63750.   115500.   124500.   127500.   118500.   103125.    45000.\n",
      "  67500.    97500.    56250.    75000.  ]\n",
      "[20 23 14  9 21 24  3  0 12 13 22  2 19  4 15  5 18  8  6 16 17  7  1 11\n",
      " 10]\n"
     ]
    }
   ],
   "source": [
    "# scores are naive EVs based on treasure multiplier and number of hunters\n",
    "# we flatten to make it easy to work with and arg sort them\n",
    "flat_scores = (treasures[:,:,0] * multiplier_value / treasures[:,:,1]).flatten()\n",
    "ids = np.argsort(flat_scores)\n",
    "print(flat_scores)\n",
    "print(ids)"
   ]
  },
  {
   "cell_type": "code",
   "execution_count": 34,
   "metadata": {},
   "outputs": [
    {
     "name": "stdout",
     "output_type": "stream",
     "text": [
      "(14,)\n",
      "[ 65625.    67500.    75000.    78750.    90000.    93750.    96428.57\n",
      "  97500.   102500.   103125.   112500.   115500.   117500.   118500.  ]\n"
     ]
    }
   ],
   "source": [
    "middle = flat_scores[ids[3:-8]] # middle values\n",
    "print(middle.shape)\n",
    "print(middle)"
   ]
  },
  {
   "cell_type": "code",
   "execution_count": 35,
   "metadata": {},
   "outputs": [],
   "source": [
    "# doesn't matter what the distribution is within the greedy 8 and anti greedy 3 because we will not choose them anyways\n",
    "greedy8 = np.array([10,10,10,10,10,10,10,10]) * (60/80) # 60% of people choose top 8 islands\n",
    "\n",
    "agreedy3 = np.array([20/3, 20/3, 20/3]) # anti greedy 3, 20% of people choose lowest 3 islands"
   ]
  },
  {
   "cell_type": "code",
   "execution_count": 36,
   "metadata": {},
   "outputs": [
    {
     "name": "stdout",
     "output_type": "stream",
     "text": [
      "(14,)\n",
      "[0.98 1.01 1.12 1.18 1.35 1.41 1.45 1.46 1.54 1.55 1.69 1.73 1.76 1.78]\n",
      "[ 9 21 24  3  0 12 13 22  2 19  4 15  5 18]\n"
     ]
    }
   ],
   "source": [
    "ps = 100 * middle / middle.sum() # get percentage value of each score\n",
    "ps = ps * ((100 - greedy8.sum() - agreedy3.sum()) / 100)\n",
    "\n",
    "p_ids = ids[3:-8] # get the ids of the middle values\n",
    "\n",
    "print(ps.shape)\n",
    "print(ps)\n",
    "print(p_ids)"
   ]
  },
  {
   "cell_type": "code",
   "execution_count": 37,
   "metadata": {},
   "outputs": [
    {
     "name": "stdout",
     "output_type": "stream",
     "text": [
      "100.0\n"
     ]
    }
   ],
   "source": [
    "print(greedy8.sum() + agreedy3.sum() + ps.sum())"
   ]
  },
  {
   "cell_type": "code",
   "execution_count": 38,
   "metadata": {},
   "outputs": [
    {
     "name": "stdout",
     "output_type": "stream",
     "text": [
      "[[1.35 7.5  1.54 1.18 1.69]\n",
      " [1.76 7.5  7.5  7.5  0.98]\n",
      " [7.5  7.5  1.41 1.45 6.67]\n",
      " [1.73 7.5  7.5  1.78 1.55]\n",
      " [6.67 1.01 1.46 6.67 1.12]]\n"
     ]
    }
   ],
   "source": [
    "my_assumption = np.ones((25))\n",
    "my_assumption[ids[:3]] = agreedy3\n",
    "my_assumption[ids[-8:]] = greedy8\n",
    "my_assumption[ids[3:-8]] = ps\n",
    "my_assumption = my_assumption.reshape((5,5))\n",
    "print(my_assumption)"
   ]
  },
  {
   "cell_type": "code",
   "execution_count": 39,
   "metadata": {},
   "outputs": [
    {
     "name": "stdout",
     "output_type": "stream",
     "text": [
      "[[53745.06 45652.17 67783.15 49520.49 79135.75]\n",
      " [74033.11 49200.   52200.   48000.   52671.17]\n",
      " [47608.7  53400.   79741.77 79924.1  14711.54]\n",
      " [85791.93 49800.   51000.   87436.14 74379.34]\n",
      " [10384.62 50475.36 71407.99 12980.77 54554.88]]\n",
      "[18, 15, 13]\n"
     ]
    }
   ],
   "source": [
    "evs = get_evs(treasures, my_assumption)\n",
    "print(evs)\n",
    "choices = choose_treasure(evs)\n",
    "print(choices)"
   ]
  },
  {
   "cell_type": "code",
   "execution_count": 40,
   "metadata": {},
   "outputs": [
    {
     "name": "stdout",
     "output_type": "stream",
     "text": [
      "[10384.62 12980.77 14711.54 45652.17 47608.7  48000.   49200.   49520.49\n",
      " 49800.   50475.36 51000.   52200.   52671.17 53400.   53745.06 54554.88\n",
      " 67783.15 71407.99 74033.11 74379.34 79135.75 79741.77 79924.1  85791.93\n",
      " 87436.14]\n"
     ]
    }
   ],
   "source": [
    "sorted_evs = np.sort(evs.flatten())\n",
    "print(sorted_evs)"
   ]
  },
  {
   "cell_type": "markdown",
   "metadata": {},
   "source": [
    "# This is all power/normal hybrid which doesn't make sense now so ignore it :("
   ]
  },
  {
   "cell_type": "code",
   "execution_count": 41,
   "metadata": {},
   "outputs": [
    {
     "name": "stdout",
     "output_type": "stream",
     "text": [
      "[0.06 0.   0.06 0.01 0.09 0.07 0.   0.   0.   0.06 0.   0.   0.12 0.04\n",
      " 0.   0.07 0.   0.   0.09 0.17 0.   0.06 0.05 0.   0.05]\n",
      "25\n"
     ]
    }
   ],
   "source": [
    "# sample from ps to get the distribution of the middle 14 islands\n",
    "samples = []\n",
    "for i in range(100):\n",
    "    sample = np.random.choice(p_ids, 100, p=ps/ps.sum()).copy()\n",
    "    counts = np.bincount(sample)/sample.size\n",
    "    samples.append(counts)\n",
    "samples = np.array(samples)\n",
    "print(samples[0])\n",
    "print(samples[0].__len__())"
   ]
  },
  {
   "cell_type": "code",
   "execution_count": 42,
   "metadata": {},
   "outputs": [
    {
     "name": "stdout",
     "output_type": "stream",
     "text": [
      "[0.06 0.   0.08 0.05 0.09 0.09 0.   0.   0.   0.05 0.   0.   0.07 0.07\n",
      " 0.   0.09 0.   0.   0.09 0.08 0.   0.05 0.08 0.   0.06]\n",
      "[0.02 0.   0.03 0.03 0.02 0.02 0.   0.   0.   0.02 0.   0.   0.03 0.03\n",
      " 0.   0.03 0.   0.   0.03 0.03 0.   0.02 0.03 0.   0.02]\n"
     ]
    }
   ],
   "source": [
    "means = samples.mean(axis=0)\n",
    "stds = samples.std(axis=0)\n",
    "print(means)\n",
    "print(stds)"
   ]
  },
  {
   "cell_type": "code",
   "execution_count": 43,
   "metadata": {},
   "outputs": [
    {
     "name": "stdout",
     "output_type": "stream",
     "text": [
      "[0.04 0.04 0.04 0.04 0.05 0.04 0.04 0.04 0.05 0.04 0.04 0.04 0.04 0.04\n",
      " 0.04 0.04 0.04 0.04 0.04 0.04 0.04 0.04 0.04 0.04 0.04 0.04 0.05 0.04\n",
      " 0.04 0.04 0.04 0.04 0.04 0.04 0.04 0.04 0.04 0.04 0.04 0.04 0.04 0.04\n",
      " 0.04 0.05 0.04 0.04 0.05 0.04 0.04 0.04 0.04 0.04 0.04 0.04 0.04 0.04\n",
      " 0.04 0.05 0.04 0.04 0.05 0.04 0.04 0.04 0.04 0.04 0.04 0.04 0.04 0.04\n",
      " 0.04 0.04 0.04 0.04 0.04 0.04 0.04 0.04 0.04 0.04 0.04 0.04 0.04 0.04\n",
      " 0.04 0.04 0.04 0.04 0.04 0.04 0.04 0.04 0.05 0.04 0.04 0.04 0.04 0.04\n",
      " 0.04 0.04]\n"
     ]
    },
    {
     "data": {
      "text/plain": [
       "(array([ 0.,  3.,  0.,  0.,  0.,  0.,  0.,  0.,  0.,  0.,  0.,  0.,  0.,\n",
       "         0.,  0.,  0.,  0.,  0.,  0.,  0.,  0.,  0.,  0.,  0.,  0.,  0.,\n",
       "        87.,  0.,  0.,  0.,  0.,  0.,  0.,  0.,  0.,  0.,  0.,  0.,  0.,\n",
       "         0.,  0.,  0.,  0.,  0.,  0.,  0.,  0.,  0.,  0., 10.]),\n",
       " array([0.04, 0.04, 0.04, 0.04, 0.04, 0.04, 0.04, 0.04, 0.04, 0.04, 0.04,\n",
       "        0.04, 0.04, 0.04, 0.04, 0.04, 0.04, 0.04, 0.04, 0.04, 0.04, 0.04,\n",
       "        0.04, 0.04, 0.04, 0.04, 0.04, 0.04, 0.04, 0.04, 0.04, 0.04, 0.04,\n",
       "        0.04, 0.04, 0.04, 0.04, 0.04, 0.04, 0.04, 0.04, 0.04, 0.04, 0.04,\n",
       "        0.04, 0.04, 0.04, 0.04, 0.04, 0.04, 0.04]),\n",
       " <BarContainer object of 50 artists>)"
      ]
     },
     "execution_count": 43,
     "metadata": {},
     "output_type": "execute_result"
    },
    {
     "data": {
      "image/png": "[encoded data removed]",
      "text/plain": [
       "<Figure size 640x480 with 1 Axes>"
      ]
     },
     "metadata": {},
     "output_type": "display_data"
    }
   ],
   "source": [
    "# plot the distribution of the mean of the samples\n",
    "import matplotlib.pyplot as plt\n",
    "sample_means = samples.mean(axis=1)\n",
    "sample_sds = samples.std(axis=1)\n",
    "print(sample_sds)\n",
    "plt.hist(sample_means, bins=50)\n",
    "\n"
   ]
  },
  {
   "cell_type": "code",
   "execution_count": 44,
   "metadata": {},
   "outputs": [
    {
     "name": "stdout",
     "output_type": "stream",
     "text": [
      "[0. 0. 0. 0. 0. 0. 0. 0. 0. 0. 0. 0. 0. 0.]\n"
     ]
    }
   ],
   "source": [
    "# for each value in middle, calculate the probability of it being chosen given the normal distribution of the middle 14 islands\n",
    "# we will use the normal distribution of the samples of middle 14 islands to calculate the pdf of each island being chosen\n",
    "from scipy.stats import norm\n",
    "from scipy.stats import beta\n",
    "\n",
    "def get_pdf(x, mean, sd):\n",
    "    return norm.pdf(x, mean, sd)\n",
    "\n",
    "def get_beta_pdf(x, a, b):\n",
    "    return beta.pdf(x, a, b)\n",
    "\n",
    "pdfs = []\n",
    "\n",
    "for i in range(len(middle)):\n",
    "    pdf = get_pdf(middle[i], sample_means.mean(), sample_means.std())\n",
    "    pdfs.append(pdf)\n",
    "pdfs = np.array(pdfs)\n",
    "\n",
    "print(pdfs)"
   ]
  },
  {
   "cell_type": "code",
   "execution_count": 45,
   "metadata": {},
   "outputs": [
    {
     "data": {
      "text/plain": [
       "array([ 65625.  ,  67500.  ,  75000.  ,  78750.  ,  90000.  ,  93750.  ,\n",
       "        96428.57,  97500.  , 102500.  , 103125.  , 112500.  , 115500.  ,\n",
       "       117500.  , 118500.  ])"
      ]
     },
     "execution_count": 45,
     "metadata": {},
     "output_type": "execute_result"
    }
   ],
   "source": [
    "middle"
   ]
  },
  {
   "cell_type": "code",
   "execution_count": 46,
   "metadata": {},
   "outputs": [
    {
     "name": "stdout",
     "output_type": "stream",
     "text": [
      "[[1.35 7.5  1.54 1.18 1.69]\n",
      " [1.76 7.5  7.5  7.5  0.98]\n",
      " [7.5  7.5  1.41 1.45 6.67]\n",
      " [1.73 7.5  7.5  1.78 1.55]\n",
      " [6.67 1.01 1.46 6.67 1.12]]\n"
     ]
    }
   ],
   "source": [
    "my_assumption = np.ones((25))\n",
    "my_assumption[ids[:3]] = agreedy3\n",
    "my_assumption[ids[-8:]] = greedy8\n",
    "my_assumption[ids[3:-8]] = ps\n",
    "my_assumption = my_assumption.reshape((5,5))\n",
    "print(my_assumption)"
   ]
  },
  {
   "cell_type": "code",
   "execution_count": 47,
   "metadata": {},
   "outputs": [
    {
     "data": {
      "text/plain": [
       "array([[2, 4, 3, 2, 4],\n",
       "       [3, 5, 5, 5, 4],\n",
       "       [4, 5, 8, 7, 2],\n",
       "       [5, 5, 5, 5, 4],\n",
       "       [2, 3, 4, 2, 3]])"
      ]
     },
     "execution_count": 47,
     "metadata": {},
     "output_type": "execute_result"
    }
   ],
   "source": [
    "treasures[:,:,1]"
   ]
  },
  {
   "cell_type": "code",
   "execution_count": 48,
   "metadata": {},
   "outputs": [
    {
     "data": {
      "text/plain": [
       "array([[ 24,  70,  41,  21,  60],\n",
       "       [ 47,  82,  87,  80,  35],\n",
       "       [ 73,  89, 100,  90,  17],\n",
       "       [ 77,  83,  85,  79,  55],\n",
       "       [ 12,  27,  52,  15,  30]])"
      ]
     },
     "execution_count": 48,
     "metadata": {},
     "output_type": "execute_result"
    }
   ],
   "source": [
    "treasures[:,:,0]"
   ]
  },
  {
   "cell_type": "code",
   "execution_count": 51,
   "metadata": {},
   "outputs": [
    {
     "data": {
      "text/plain": [
       "array([[ 90000.  , 131250.  , 102500.  ,  78750.  , 112500.  ],\n",
       "       [117500.  , 123000.  , 130500.  , 120000.  ,  65625.  ],\n",
       "       [136875.  , 133500.  ,  93750.  ,  96428.57,  63750.  ],\n",
       "       [115500.  , 124500.  , 127500.  , 118500.  , 103125.  ],\n",
       "       [ 45000.  ,  67500.  ,  97500.  ,  56250.  ,  75000.  ]])"
      ]
     },
     "execution_count": 51,
     "metadata": {},
     "output_type": "execute_result"
    }
   ],
   "source": [
    "flat_scores.reshape((5,5))"
   ]
  },
  {
   "cell_type": "code",
   "execution_count": 55,
   "metadata": {},
   "outputs": [
    {
     "data": {
      "text/plain": [
       "array([ 1, 10, 11])"
      ]
     },
     "execution_count": 55,
     "metadata": {},
     "output_type": "execute_result"
    }
   ],
   "source": [
    "grid_scores = flat_scores.reshape((5,5))\n",
    "# get the indices of the top 3 scores\n",
    "top_indices = np.argpartition(flat_scores, -3)[-3:]\n",
    "\n",
    "# get the top 3 score values\n",
    "top_scores = flat_scores[top_indices]\n",
    "top_indices"
   ]
  },
  {
   "cell_type": "code",
   "execution_count": 62,
   "metadata": {},
   "outputs": [
    {
     "name": "stdout",
     "output_type": "stream",
     "text": [
      "[131250. 136875. 133500.]\n",
      "[ 1 10 11]\n"
     ]
    }
   ],
   "source": [
    "# get the indices of the top 3 scores\n",
    "top_indices = np.argpartition(flat_scores, -3)[-3:]\n",
    "\n",
    "# convert the linear indices to grid indices\n",
    "top_grid_indices = np.unravel_index(top_indices, grid_scores.shape)\n",
    "\n",
    "# get the top 3 score values from the grid\n",
    "top_scores = grid_scores[top_grid_indices]\n",
    "print(top_scores)\n",
    "print(top_indices)"
   ]
  },
  {
   "cell_type": "code",
   "execution_count": 64,
   "metadata": {},
   "outputs": [
    {
     "data": {
      "text/plain": [
       "array([[     0., 131250.,      0.,      0.,      0.],\n",
       "       [     0.,      0.,      0.,      0.,      0.],\n",
       "       [136875., 133500.,      0.,      0.,      0.],\n",
       "       [     0.,      0.,      0.,      0.,      0.],\n",
       "       [     0.,      0.,      0.,      0.,      0.]])"
      ]
     },
     "execution_count": 64,
     "metadata": {},
     "output_type": "execute_result"
    }
   ],
   "source": [
    "# get the indices of the top 3 scores\n",
    "top_indices = np.argsort(flat_scores)[-3:]\n",
    "\n",
    "# convert the linear indices to grid indices\n",
    "top_grid_indices = np.unravel_index(top_indices, (5,5))\n",
    "\n",
    "# create a new matrix with the top 3 scores and the rest as 0\n",
    "new_matrix = np.zeros((5,5))\n",
    "new_matrix[top_grid_indices] = flat_scores[top_indices]\n",
    "new_matrix"
   ]
  }
 ],
 "metadata": {
  "kernelspec": {
   "display_name": "ml-imc",
   "language": "python",
   "name": "python3"
  },
  "language_info": {
   "codemirror_mode": {
    "name": "ipython",
    "version": 3
   },
   "file_extension": ".py",
   "mimetype": "text/x-python",
   "name": "python",
   "nbconvert_exporter": "python",
   "pygments_lexer": "ipython3",
   "version": "3.10.12"
  }
 },
 "nbformat": 4,
 "nbformat_minor": 2
}
